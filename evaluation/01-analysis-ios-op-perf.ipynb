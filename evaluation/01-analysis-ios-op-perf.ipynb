{
 "cells": [
  {
   "cell_type": "code",
   "execution_count": null,
   "id": "452905da",
   "metadata": {},
   "outputs": [],
   "source": [
    "import warnings\n",
    "warnings.filterwarnings(\"ignore\")\n",
    "\n",
    "import json\n",
    "import matplotlib.pyplot as plt\n",
    "import os\n",
    "import pandas as pd\n",
    "import seaborn as sns\n",
    "\n",
    "%config InlineBackend.figure_format = 'retina'\n",
    "plt.rc('pdf', fonttype=42) # Avoid type 3 fonts\n",
    "\n",
    "sns.set_theme(style=\"white\")\n",
    "sns.set_palette(sns.color_palette(\"tab10\"))"
   ]
  },
  {
   "cell_type": "code",
   "execution_count": null,
   "id": "9d23e4d7",
   "metadata": {
    "scrolled": false
   },
   "outputs": [],
   "source": [
    "BASE_DIR = '../ios'\n",
    "DATA_DIR = os.path.join(BASE_DIR, 'server/data')\n",
    "\n",
    "FILES = [\n",
    "    'CHANGE-ME.json',\n",
    "    'CHANGE-ME.json',\n",
    "]\n",
    "\n",
    "\n",
    "def get_device_info(device_name):\n",
    "    with open(os.path.join(BASE_DIR, 'server/models.json')) as f:\n",
    "        return json.load(f)[device_name]\n",
    "\n",
    "\n",
    "def read_data(path):\n",
    "    with open(path) as f:\n",
    "        d = json.load(f)\n",
    "        \n",
    "    info = get_device_info(d['device'])\n",
    "    \n",
    "    return pd.DataFrame(data={\n",
    "        'Device': info['name'],\n",
    "        'OS Version': d['version'],\n",
    "        'Chip': info['chip'],\n",
    "        'Configuration': f\"{info['name']} ({d['version']})\",\n",
    "        'Measurement': [float(x) * 1000 for x in d['executionTimeSeconds']],\n",
    "    })\n",
    "\n",
    "\n",
    "def read_all_data():\n",
    "    for f in FILES:\n",
    "        path = os.path.join(DATA_DIR, f)\n",
    "        x = read_data(path)\n",
    "        yield x\n",
    "        \n",
    "df = pd.concat(read_all_data())\n",
    "df.sample(10)"
   ]
  },
  {
   "cell_type": "code",
   "execution_count": null,
   "id": "a3711512",
   "metadata": {},
   "outputs": [],
   "source": [
    "#\n",
    "# Box plot with the iOS ECDH execution times\n",
    "#\n",
    "\n",
    "fig, ax = plt.subplots()\n",
    "fig.set_size_inches((5.5, 2.5))\n",
    "\n",
    "sns.boxplot(\n",
    "    data=df,\n",
    "    y='Configuration',\n",
    "    x='Measurement',\n",
    "    hue='Chip',\n",
    "    ax=ax,\n",
    "    showfliers = False,\n",
    "    dodge = False,\n",
    "    \n",
    ")\n",
    "\n",
    "ax.set_xlabel(\"Operation duration [ms]\")\n",
    "ax.set_xlim((5.5, 18.5))\n",
    "\n",
    "ax.set_ylabel(\"Configuration\")\n",
    "\n",
    "ax.grid(ls='--')\n",
    "\n",
    "ax.legend(loc='lower right',ncol=2)\n",
    "\n",
    "fig.tight_layout()\n",
    "fig.savefig(\"output/ios-operation-box-plot.pdf\", dpi=300, bbox_inches='tight')"
   ]
  },
  {
   "cell_type": "code",
   "execution_count": null,
   "id": "a051cd43",
   "metadata": {},
   "outputs": [],
   "source": [
    "#\n",
    "# Intermediate dataset with the p10 execution times\n",
    "#\n",
    "\n",
    "measured = df.groupby('Device').quantile(0.1)\n",
    "measured.to_csv('output/ios-p10-times.csv')\n",
    "measured"
   ]
  }
 ],
 "metadata": {
  "kernelspec": {
   "display_name": "Python 3 (ipykernel)",
   "language": "python",
   "name": "python3"
  },
  "language_info": {
   "codemirror_mode": {
    "name": "ipython",
    "version": 3
   },
   "file_extension": ".py",
   "mimetype": "text/x-python",
   "name": "python",
   "nbconvert_exporter": "python",
   "pygments_lexer": "ipython3",
   "version": "3.8.10"
  },
  "vscode": {
   "interpreter": {
    "hash": "46f3b67128aa9e95477aaae345c3ea8b2d89ec91399f3d56304a3ee36b15e818"
   }
  }
 },
 "nbformat": 4,
 "nbformat_minor": 5
}
